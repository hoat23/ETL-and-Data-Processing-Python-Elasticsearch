{
  "nbformat": 4,
  "nbformat_minor": 0,
  "metadata": {
    "colab": {
      "name": "02_Sharepoint_to_Elasticsearch.ipynb",
      "provenance": [],
      "collapsed_sections": []
    },
    "kernelspec": {
      "name": "python3",
      "display_name": "Python 3"
    }
  },
  "cells": [
    {
      "cell_type": "code",
      "metadata": {
        "id": "N9nXNoAd8U-4",
        "colab": {
          "base_uri": "https://localhost:8080/"
        },
        "outputId": "23d2284b-1189-4e3e-e390-da1e6372feed"
      },
      "source": [
        "!pip install adal\n",
        "!pip install Office365-REST-Python-Client\n",
        "!python -m pip install elasticsearch\n",
        "!python -m pip install eland"
      ],
      "execution_count": null,
      "outputs": [
        {
          "output_type": "stream",
          "text": [
            "Collecting adal\n",
            "\u001b[?25l  Downloading https://files.pythonhosted.org/packages/e9/51/5081e3705fdc4bf56fe26990b959b3379c9db38c6a0a0cd6b66508d161db/adal-1.2.5-py2.py3-none-any.whl (55kB)\n",
            "\r\u001b[K     |██████                          | 10kB 16.4MB/s eta 0:00:01\r\u001b[K     |███████████▉                    | 20kB 11.4MB/s eta 0:00:01\r\u001b[K     |█████████████████▊              | 30kB 7.8MB/s eta 0:00:01\r\u001b[K     |███████████████████████▊        | 40kB 7.6MB/s eta 0:00:01\r\u001b[K     |█████████████████████████████▋  | 51kB 4.4MB/s eta 0:00:01\r\u001b[K     |████████████████████████████████| 61kB 3.3MB/s \n",
            "\u001b[?25hRequirement already satisfied: python-dateutil>=2.1.0 in /usr/local/lib/python3.6/dist-packages (from adal) (2.8.1)\n",
            "Collecting PyJWT>=1.0.0\n",
            "  Downloading https://files.pythonhosted.org/packages/87/8b/6a9f14b5f781697e51259d81657e6048fd31a113229cf346880bb7545565/PyJWT-1.7.1-py2.py3-none-any.whl\n",
            "Collecting cryptography>=1.1.0\n",
            "\u001b[?25l  Downloading https://files.pythonhosted.org/packages/4c/a2/6565c5271a79e3c96d7a079053b4d8408a740d4bf365f0f5f244a807bd09/cryptography-3.2.1-cp35-abi3-manylinux2010_x86_64.whl (2.6MB)\n",
            "\u001b[K     |████████████████████████████████| 2.6MB 8.3MB/s \n",
            "\u001b[?25hRequirement already satisfied: requests>=2.0.0 in /usr/local/lib/python3.6/dist-packages (from adal) (2.23.0)\n",
            "Requirement already satisfied: six>=1.5 in /usr/local/lib/python3.6/dist-packages (from python-dateutil>=2.1.0->adal) (1.15.0)\n",
            "Requirement already satisfied: cffi!=1.11.3,>=1.8 in /usr/local/lib/python3.6/dist-packages (from cryptography>=1.1.0->adal) (1.14.3)\n",
            "Requirement already satisfied: chardet<4,>=3.0.2 in /usr/local/lib/python3.6/dist-packages (from requests>=2.0.0->adal) (3.0.4)\n",
            "Requirement already satisfied: idna<3,>=2.5 in /usr/local/lib/python3.6/dist-packages (from requests>=2.0.0->adal) (2.10)\n",
            "Requirement already satisfied: urllib3!=1.25.0,!=1.25.1,<1.26,>=1.21.1 in /usr/local/lib/python3.6/dist-packages (from requests>=2.0.0->adal) (1.24.3)\n",
            "Requirement already satisfied: certifi>=2017.4.17 in /usr/local/lib/python3.6/dist-packages (from requests>=2.0.0->adal) (2020.11.8)\n",
            "Requirement already satisfied: pycparser in /usr/local/lib/python3.6/dist-packages (from cffi!=1.11.3,>=1.8->cryptography>=1.1.0->adal) (2.20)\n",
            "Installing collected packages: PyJWT, cryptography, adal\n",
            "Successfully installed PyJWT-1.7.1 adal-1.2.5 cryptography-3.2.1\n",
            "Collecting Office365-REST-Python-Client\n",
            "\u001b[?25l  Downloading https://files.pythonhosted.org/packages/81/75/e568eba64cb64ac2b358b8bd4a10aecabdc22e220c7b4e99bbd5559b2e1e/Office365_REST_Python_Client-2.2.2-py3-none-any.whl (294kB)\n",
            "\u001b[K     |████████████████████████████████| 296kB 5.8MB/s \n",
            "\u001b[?25hCollecting msal\n",
            "\u001b[?25l  Downloading https://files.pythonhosted.org/packages/4b/e5/2fd1b53545a27f403028d82fa3b41f9131d6490b1bb133ef967a5bf258a5/msal-1.6.0-py2.py3-none-any.whl (50kB)\n",
            "\u001b[K     |████████████████████████████████| 51kB 6.7MB/s \n",
            "\u001b[?25hRequirement already satisfied: requests in /usr/local/lib/python3.6/dist-packages (from Office365-REST-Python-Client) (2.23.0)\n",
            "Requirement already satisfied: PyJWT[crypto]<2,>=1.0.0 in /usr/local/lib/python3.6/dist-packages (from msal->Office365-REST-Python-Client) (1.7.1)\n",
            "Requirement already satisfied: cryptography<4,>=0.6 in /usr/local/lib/python3.6/dist-packages (from msal->Office365-REST-Python-Client) (3.2.1)\n",
            "Requirement already satisfied: urllib3!=1.25.0,!=1.25.1,<1.26,>=1.21.1 in /usr/local/lib/python3.6/dist-packages (from requests->Office365-REST-Python-Client) (1.24.3)\n",
            "Requirement already satisfied: certifi>=2017.4.17 in /usr/local/lib/python3.6/dist-packages (from requests->Office365-REST-Python-Client) (2020.11.8)\n",
            "Requirement already satisfied: chardet<4,>=3.0.2 in /usr/local/lib/python3.6/dist-packages (from requests->Office365-REST-Python-Client) (3.0.4)\n",
            "Requirement already satisfied: idna<3,>=2.5 in /usr/local/lib/python3.6/dist-packages (from requests->Office365-REST-Python-Client) (2.10)\n",
            "Requirement already satisfied: six>=1.4.1 in /usr/local/lib/python3.6/dist-packages (from cryptography<4,>=0.6->msal->Office365-REST-Python-Client) (1.15.0)\n",
            "Requirement already satisfied: cffi!=1.11.3,>=1.8 in /usr/local/lib/python3.6/dist-packages (from cryptography<4,>=0.6->msal->Office365-REST-Python-Client) (1.14.3)\n",
            "Requirement already satisfied: pycparser in /usr/local/lib/python3.6/dist-packages (from cffi!=1.11.3,>=1.8->cryptography<4,>=0.6->msal->Office365-REST-Python-Client) (2.20)\n",
            "Installing collected packages: msal, Office365-REST-Python-Client\n",
            "Successfully installed Office365-REST-Python-Client-2.2.2 msal-1.6.0\n",
            "Collecting elasticsearch\n",
            "\u001b[?25l  Downloading https://files.pythonhosted.org/packages/14/ba/f950bdd9164fb2bbbe5093700162234fbe61f446fe2300a8993761c132ca/elasticsearch-7.10.0-py2.py3-none-any.whl (321kB)\n",
            "\u001b[K     |████████████████████████████████| 327kB 5.8MB/s \n",
            "\u001b[?25hRequirement already satisfied: certifi in /usr/local/lib/python3.6/dist-packages (from elasticsearch) (2020.11.8)\n",
            "Requirement already satisfied: urllib3<2,>=1.21.1 in /usr/local/lib/python3.6/dist-packages (from elasticsearch) (1.24.3)\n",
            "Installing collected packages: elasticsearch\n",
            "Successfully installed elasticsearch-7.10.0\n",
            "Collecting eland\n",
            "\u001b[?25l  Downloading https://files.pythonhosted.org/packages/44/1c/5966b8218248b80e1ec504e4b7aace40e4800366a6f96b461beb733d6295/eland-7.10.0b1-py3-none-any.whl (203kB)\n",
            "\u001b[K     |████████████████████████████████| 204kB 6.0MB/s \n",
            "\u001b[?25hRequirement already satisfied: elasticsearch>=7.7 in /usr/local/lib/python3.6/dist-packages (from eland) (7.10.0)\n",
            "Requirement already satisfied: pandas>=1 in /usr/local/lib/python3.6/dist-packages (from eland) (1.1.4)\n",
            "Requirement already satisfied: numpy in /usr/local/lib/python3.6/dist-packages (from eland) (1.18.5)\n",
            "Requirement already satisfied: matplotlib in /usr/local/lib/python3.6/dist-packages (from eland) (3.2.2)\n",
            "Requirement already satisfied: certifi in /usr/local/lib/python3.6/dist-packages (from elasticsearch>=7.7->eland) (2020.11.8)\n",
            "Requirement already satisfied: urllib3<2,>=1.21.1 in /usr/local/lib/python3.6/dist-packages (from elasticsearch>=7.7->eland) (1.24.3)\n",
            "Requirement already satisfied: pytz>=2017.2 in /usr/local/lib/python3.6/dist-packages (from pandas>=1->eland) (2018.9)\n",
            "Requirement already satisfied: python-dateutil>=2.7.3 in /usr/local/lib/python3.6/dist-packages (from pandas>=1->eland) (2.8.1)\n",
            "Requirement already satisfied: cycler>=0.10 in /usr/local/lib/python3.6/dist-packages (from matplotlib->eland) (0.10.0)\n",
            "Requirement already satisfied: pyparsing!=2.0.4,!=2.1.2,!=2.1.6,>=2.0.1 in /usr/local/lib/python3.6/dist-packages (from matplotlib->eland) (2.4.7)\n",
            "Requirement already satisfied: kiwisolver>=1.0.1 in /usr/local/lib/python3.6/dist-packages (from matplotlib->eland) (1.3.1)\n",
            "Requirement already satisfied: six>=1.5 in /usr/local/lib/python3.6/dist-packages (from python-dateutil>=2.7.3->pandas>=1->eland) (1.15.0)\n",
            "Installing collected packages: eland\n",
            "Successfully installed eland-7.10.0b1\n"
          ],
          "name": "stdout"
        }
      ]
    },
    {
      "cell_type": "code",
      "metadata": {
        "id": "l9pfdUjhoXKH"
      },
      "source": [
        "import pandas as pd\n",
        "import eland as ed\n",
        "import pandas as pd\n",
        "import numpy as np\n",
        "import matplotlib.pyplot as plt\n",
        "import os\n",
        "import tempfile\n",
        "import json\n",
        "from six.moves.urllib.parse import urlencode, quote\n",
        "from datetime import datetime\n",
        "from urllib.request import urlopen\n",
        "from office365.runtime.auth.client_credential import ClientCredential\n",
        "from office365.sharepoint.client_context import ClientContext\n",
        "from office365.runtime.auth.authentication_context import AuthenticationContext\n",
        "from office365.runtime.auth.user_credential import UserCredential\n",
        "from office365.runtime.http.request_options import RequestOptions\n",
        "\n",
        "from elasticsearch import Elasticsearch\n",
        "# Import standard test settings for consistent results\n",
        "from eland.conftest import *\n",
        "\n",
        "# Loading code <utils.py> from github repository.\n",
        "url_code_github = \"https://raw.githubusercontent.com/hoat23/ElasticSearch/master/bin/utils.py\"\n",
        "code_str = urlopen(url_code_github).read()\n",
        "code_str = code_str.decode('utf-8')\n",
        "exec(  code_str  )"
      ],
      "execution_count": null,
      "outputs": []
    },
    {
      "cell_type": "code",
      "metadata": {
        "id": "TUTBLq7_kXnY"
      },
      "source": [
        "#CAMBIAR LOS PARAMETROS Y VARIABLES\n",
        "SHAREPOINT_USER = \"deiner.zapata@microsoft.pe\"\n",
        "SHAREPOINT_PASS = \"mysecretpasword\"\n",
        "SHAREPOINT_URL = \"https://deiner.sharepoint.com\"\n",
        "SITE_URL = \"{0}/sites/GrupoDeiner\".format(SHAREPOINT_URL)\n",
        "                 \n",
        "PATH_DIRECTORY = \"sites/GrupoDeiner/Documentos compartidos/Elastic/Reportes por grupo\"\n",
        "\n",
        "LIST_FILES = [\n",
        "#  RELATIVE_PATH                                          EXCEL_FILENAME                   EXCEL_SHEETNAME\n",
        "  [\"\"                                                 , \"Sector 01.xlsx\"               , \"Hoja2\"          ],\n",
        "  [\"\"                                                 , \"Notas.xlsx\"                   , \"\"               ],\n",
        "  [\"Reportes Consolidados/Procesados/00 Grupo01\"      , \"Grupo01.xlsx\"                 , \"\"               ],\n",
        "  [\"Reportes Consolidados/Procesados/01 Grupo02\"      , \"Grupo02.xlsx\"                 , \"\"               ],\n",
        "  [\"Reportes Consolidados/Procesados/02 Grupo03\"      , \"Grupo03.xlsx\"                 , \"\"               ]\n",
        "]\n",
        "# NOTA: Fullpath is [ PATH_DIRECTORY + RELATIVE_PATH ]"
      ],
      "execution_count": 1,
      "outputs": []
    },
    {
      "cell_type": "code",
      "metadata": {
        "id": "mhybmHSeqQUA"
      },
      "source": [
        "def connect_to_sharepoint(url, user, pasw):\n",
        "  sharepoint_conector = ClientContext(url).with_credentials(UserCredential(user, pasw))\n",
        "  web = sharepoint_conector.web\n",
        "  sharepoint_conector.load(web)\n",
        "  sharepoint_conector.execute_query()\n",
        "  print(\"connect_to_sharepoint | web title: {0}\".format(web.properties['Title']))\n",
        "  return sharepoint_conector\n",
        "\n",
        "def download_file(url_path_relative,url_conector):\n",
        "  download_path = os.path.join(tempfile.mkdtemp(), os.path.basename(url_path_relative))\n",
        "  with open(download_path, \"wb\") as local_file:\n",
        "      file = url_conector.web.get_file_by_server_relative_url(url_path_relative).download(local_file).execute_query()\n",
        "  print(\"[Ok] Archivo cargado: {0}\".format(download_path))\n",
        "  return download_path\n",
        "\n",
        "def download_list_files(list_files, path_directory, url_conector):\n",
        "  list_download_paths = []\n",
        "  for one_file in list_files:\n",
        "    if len(one_file[0])==0:\n",
        "      url_path_relative =  quote( \"/{0}/{1}\".format(path_directory,one_file[1]) )\n",
        "    else:\n",
        "      url_path_relative =  quote( \"/{0}/{1}/{2}\".format(path_directory,one_file[0],one_file[1]) )\n",
        "    list_download_paths.append( [ download_file(url_path_relative, url_conector) , one_file[2] ] )\n",
        "  return list_download_paths"
      ],
      "execution_count": null,
      "outputs": []
    },
    {
      "cell_type": "code",
      "metadata": {
        "id": "Yz6OroILo_Vt"
      },
      "source": [
        "sharepoint_conector = connect_to_sharepoint(SITE_URL,SHAREPOINT_USER, SHAREPOINT_PASS)\n",
        "list_download_paths = download_list_files(LIST_FILES, PATH_DIRECTORY, sharepoint_conector)"
      ],
      "execution_count": null,
      "outputs": []
    },
    {
      "cell_type": "code",
      "metadata": {
        "id": "8XgdraBdrnJl"
      },
      "source": [
        "def listar_sheetnames_in_excel(list_files_paths):\n",
        "  for one_file_path in list_files_paths:\n",
        "    xls = pd.ExcelFile(one_file_path[0], engine='xlrd')\n",
        "    print(\"{0:60s} | sheetnames = {1}\".format(one_file_path[0], xls.sheet_names))\n",
        "\n",
        "def listar_columns_in_excel(list_files_paths):\n",
        "  for one_file_path in list_files_paths:\n",
        "    xls = pd.ExcelFile(one_file_path[0], engine='xlrd')\n",
        "    df = pd.read_excel(xls, xls.sheet_names[0])\n",
        "    print(\"{0}\".format( list(df.columns)) )\n",
        "\n",
        "print(\"\\nSHEETNAMES\")\n",
        "listar_sheetnames_in_excel(list_download_paths)\n",
        "#print(\"\\nCOLUMNAS\")\n",
        "#listar_columns_in_excel(list_download_paths)"
      ],
      "execution_count": null,
      "outputs": []
    },
    {
      "cell_type": "code",
      "metadata": {
        "id": "_wv1k-was5rT"
      },
      "source": [
        "CLUSTER_ENDPOINT = \"https://123123.us-central1.gcp.cloud.es.io:9243\"\n",
        "ID = \"123123123123\"\n",
        "API_KEY = \"adfadfasdfasdfdadf\""
      ],
      "execution_count": null,
      "outputs": []
    },
    {
      "cell_type": "code",
      "metadata": {
        "id": "Ok9N3Pvh026q"
      },
      "source": [
        "# Connect to an Elastic Cloud instance\n",
        "es = Elasticsearch(\n",
        "    [CLUSTER_ENDPOINT],\n",
        "    api_key=( ID , API_KEY),\n",
        ")\n",
        "\n",
        "print_json(es.info())"
      ],
      "execution_count": null,
      "outputs": []
    },
    {
      "cell_type": "code",
      "metadata": {
        "id": "KqjLHYEv0zsT"
      },
      "source": [
        "import re\n",
        "\n",
        "def excel_to_elasticsearch(excel_filename, excel_sheetname, index_name, es_conector):\n",
        "  xls = pd.ExcelFile(excel_filename, engine='xlrd')\n",
        "  if len(excel_sheetname)==0:\n",
        "    # By defaul load the first sheet in excel\n",
        "    excel_sheetname = xls.sheet_names[0]\n",
        "  print(\"\\nexcel_to_elasticsearch | filename [{0}] | sheetname [{1}]\".format(excel_filename, excel_sheetname))\n",
        "  df_pandas = pd.read_excel(xls, excel_sheetname)\n",
        "  df_pandas = df_pandas.replace({np.NAN: None, np.inf: None})\n",
        "  df_pandas = df_pandas.astype(object).where(pd.notnull(df_pandas),None)\n",
        "  df_pandas.info()\n",
        "  index_name = excel_sheetname.replace(\"ñ\",\"n\")\n",
        "  index_name =  re.sub( '[^a-zA-Z0-9\\n\\.]', '', index_name )\n",
        "  index_name = index_name.lower()\n",
        "  print(\"\\nexcel_to_elasticsearch | index_name [{0}]\".format(index_name))\n",
        "  df_eland = ed.pandas_to_eland(\n",
        "    pd_df= df_pandas,\n",
        "    es_client= es_conector,\n",
        "    es_dest_index= index_name,\n",
        "    es_if_exists= \"replace\",# If the index already exists what should we do?\n",
        "    es_refresh= True,# Wait for data to be indexed before returning\n",
        "  )\n",
        "  df_eland.info()\n",
        "  del df_pandas, xls, df_eland\n",
        "\n",
        "def load_list_paths_to_elasticsearch(list_files_paths, es_conector):\n",
        "  for one_file_path in list_files_paths:\n",
        "    excel_filename = one_file_path[0]\n",
        "    excel_sheetname = one_file_path[1]\n",
        "    excel_to_elasticsearch(excel_filename, excel_sheetname, \"\", es_conector)\n",
        "\n",
        "load_list_paths_to_elasticsearch(list_download_paths, es)"
      ],
      "execution_count": null,
      "outputs": []
    }
  ]
}