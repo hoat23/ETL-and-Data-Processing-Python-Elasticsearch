{
  "nbformat": 4,
  "nbformat_minor": 0,
  "metadata": {
    "colab": {
      "name": "00_CSV_to_ElasticSearch.ipynb",
      "provenance": [],
      "collapsed_sections": []
    },
    "kernelspec": {
      "name": "python3",
      "display_name": "Python 3"
    }
  },
  "cells": [
    {
      "cell_type": "code",
      "metadata": {
        "id": "N9nXNoAd8U-4",
        "colab": {
          "base_uri": "https://localhost:8080/"
        },
        "outputId": "8980dc4e-cdc1-4106-d2e3-1e1f581f9a91"
      },
      "source": [
        "!python -m pip install elasticsearch\n",
        "!python -m pip install eland"
      ],
      "execution_count": 24,
      "outputs": [
        {
          "output_type": "stream",
          "text": [
            "Requirement already satisfied: elasticsearch in /usr/local/lib/python3.6/dist-packages (7.10.0)\n",
            "Requirement already satisfied: certifi in /usr/local/lib/python3.6/dist-packages (from elasticsearch) (2020.6.20)\n",
            "Requirement already satisfied: urllib3<2,>=1.21.1 in /usr/local/lib/python3.6/dist-packages (from elasticsearch) (1.24.3)\n",
            "Collecting eland\n",
            "\u001b[?25l  Downloading https://files.pythonhosted.org/packages/44/1c/5966b8218248b80e1ec504e4b7aace40e4800366a6f96b461beb733d6295/eland-7.10.0b1-py3-none-any.whl (203kB)\n",
            "\u001b[K     |████████████████████████████████| 204kB 13.4MB/s \n",
            "\u001b[?25hRequirement already satisfied: numpy in /usr/local/lib/python3.6/dist-packages (from eland) (1.18.5)\n",
            "Requirement already satisfied: pandas>=1 in /usr/local/lib/python3.6/dist-packages (from eland) (1.1.4)\n",
            "Requirement already satisfied: elasticsearch>=7.7 in /usr/local/lib/python3.6/dist-packages (from eland) (7.10.0)\n",
            "Requirement already satisfied: matplotlib in /usr/local/lib/python3.6/dist-packages (from eland) (3.2.2)\n",
            "Requirement already satisfied: python-dateutil>=2.7.3 in /usr/local/lib/python3.6/dist-packages (from pandas>=1->eland) (2.8.1)\n",
            "Requirement already satisfied: pytz>=2017.2 in /usr/local/lib/python3.6/dist-packages (from pandas>=1->eland) (2018.9)\n",
            "Requirement already satisfied: urllib3<2,>=1.21.1 in /usr/local/lib/python3.6/dist-packages (from elasticsearch>=7.7->eland) (1.24.3)\n",
            "Requirement already satisfied: certifi in /usr/local/lib/python3.6/dist-packages (from elasticsearch>=7.7->eland) (2020.6.20)\n",
            "Requirement already satisfied: pyparsing!=2.0.4,!=2.1.2,!=2.1.6,>=2.0.1 in /usr/local/lib/python3.6/dist-packages (from matplotlib->eland) (2.4.7)\n",
            "Requirement already satisfied: cycler>=0.10 in /usr/local/lib/python3.6/dist-packages (from matplotlib->eland) (0.10.0)\n",
            "Requirement already satisfied: kiwisolver>=1.0.1 in /usr/local/lib/python3.6/dist-packages (from matplotlib->eland) (1.3.1)\n",
            "Requirement already satisfied: six>=1.5 in /usr/local/lib/python3.6/dist-packages (from python-dateutil>=2.7.3->pandas>=1->eland) (1.15.0)\n",
            "Installing collected packages: eland\n",
            "Successfully installed eland-7.10.0b1\n"
          ],
          "name": "stdout"
        }
      ]
    },
    {
      "cell_type": "code",
      "metadata": {
        "id": "bOkK6a0xGYfD"
      },
      "source": [
        "from urllib.request import urlopen\n",
        "import pandas as pd\n",
        "import eland as ed\n",
        "import pandas as pd\n",
        "import numpy as np\n",
        "import matplotlib.pyplot as plt\n",
        "\n",
        "from elasticsearch import Elasticsearch\n",
        "# Import standard test settings for consistent results\n",
        "from eland.conftest import *\n",
        "\n",
        "# Loading code <utils.py> from github repository.\n",
        "url_code_github = \"https://raw.githubusercontent.com/hoat23/ElasticSearch/master/bin/utils.py\"\n",
        "code_str = urlopen(url_code_github).read()\n",
        "code_str = code_str.decode('utf-8')\n",
        "exec(  code_str  )\n",
        "\n",
        "# Loading code <csv> from github repository\n",
        "url_data_csv = \"https://raw.githubusercontent.com/hoat23/DataAnalytics/master/data/state-population.csv\""
      ],
      "execution_count": 25,
      "outputs": []
    },
    {
      "cell_type": "code",
      "metadata": {
        "id": "29KA-NI_5VkF",
        "colab": {
          "base_uri": "https://localhost:8080/"
        },
        "outputId": "1893ee16-30b6-4a6a-a8e0-f7a7999f7029"
      },
      "source": [
        "# Connect to an Elastic Cloud instance\n",
        "\n",
        "#es = Elasticsearch(\n",
        "#  cloud_id=ELASTIC_CLOUD_ID,\n",
        "#  http_auth=(ELASTIC_USER, ELASTIC_CLOUD_PASSWORD)\n",
        "#)\n",
        "\n",
        "es = Elasticsearch(\n",
        "    [CLUSTER_ENDPOINT],\n",
        "    api_key=( ID , API_KEY),\n",
        ")\n",
        "\n",
        "print_json(es.info())"
      ],
      "execution_count": 44,
      "outputs": [
        {
          "output_type": "stream",
          "text": [
            "{\n",
            "  \"cluster_name\": \"8eb8a6a47de443989c55b121f2d5c033\",\n",
            "  \"cluster_uuid\": \"CpKu9OxRQ7uDSiqLoNGVeg\",\n",
            "  \"name\": \"instance-0000000000\",\n",
            "  \"tagline\": \"You Know, for Search\",\n",
            "  \"version\": {\n",
            "    \"build_date\": \"2020-11-09T21:30:33.964949Z\",\n",
            "    \"build_flavor\": \"default\",\n",
            "    \"build_hash\": \"51e9d6f22758d0374a0f3f5c6e8f3a7997850f96\",\n",
            "    \"build_snapshot\": false,\n",
            "    \"build_type\": \"docker\",\n",
            "    \"lucene_version\": \"8.7.0\",\n",
            "    \"minimum_index_compatibility_version\": \"6.0.0-beta1\",\n",
            "    \"minimum_wire_compatibility_version\": \"6.8.0\",\n",
            "    \"number\": \"7.10.0\"\n",
            "  }\n",
            "}\n"
          ],
          "name": "stdout"
        }
      ]
    },
    {
      "cell_type": "code",
      "metadata": {
        "colab": {
          "base_uri": "https://localhost:8080/",
          "height": 393
        },
        "id": "BIf6v87KLwlV",
        "outputId": "8423a2a8-14e2-42be-a262-5dd6e6eee884"
      },
      "source": [
        "df_pandas = pd.read_csv(url_data_csv).dropna()\n",
        "# Rename the columns name\n",
        "df_pandas = df.rename( columns = {\"state/region\":\"state-region\"} )\n",
        "df_pandas.info()\n",
        "df_pandas.head()"
      ],
      "execution_count": 51,
      "outputs": [
        {
          "output_type": "stream",
          "text": [
            "<class 'pandas.core.frame.DataFrame'>\n",
            "Int64Index: 2524 entries, 0 to 2543\n",
            "Data columns (total 4 columns):\n",
            " #   Column        Non-Null Count  Dtype  \n",
            "---  ------        --------------  -----  \n",
            " 0   state-region  2524 non-null   object \n",
            " 1   ages          2524 non-null   object \n",
            " 2   year          2524 non-null   int64  \n",
            " 3   population    2524 non-null   float64\n",
            "dtypes: float64(1), int64(1), object(2)\n",
            "memory usage: 98.6+ KB\n"
          ],
          "name": "stdout"
        },
        {
          "output_type": "execute_result",
          "data": {
            "text/html": [
              "<div>\n",
              "<style scoped>\n",
              "    .dataframe tbody tr th:only-of-type {\n",
              "        vertical-align: middle;\n",
              "    }\n",
              "\n",
              "    .dataframe tbody tr th {\n",
              "        vertical-align: top;\n",
              "    }\n",
              "\n",
              "    .dataframe thead th {\n",
              "        text-align: right;\n",
              "    }\n",
              "</style>\n",
              "<table border=\"1\" class=\"dataframe\">\n",
              "  <thead>\n",
              "    <tr style=\"text-align: right;\">\n",
              "      <th></th>\n",
              "      <th>state-region</th>\n",
              "      <th>ages</th>\n",
              "      <th>year</th>\n",
              "      <th>population</th>\n",
              "    </tr>\n",
              "  </thead>\n",
              "  <tbody>\n",
              "    <tr>\n",
              "      <th>0</th>\n",
              "      <td>AL</td>\n",
              "      <td>under18</td>\n",
              "      <td>2012</td>\n",
              "      <td>1117489.0</td>\n",
              "    </tr>\n",
              "    <tr>\n",
              "      <th>1</th>\n",
              "      <td>AL</td>\n",
              "      <td>total</td>\n",
              "      <td>2012</td>\n",
              "      <td>4817528.0</td>\n",
              "    </tr>\n",
              "    <tr>\n",
              "      <th>2</th>\n",
              "      <td>AL</td>\n",
              "      <td>under18</td>\n",
              "      <td>2010</td>\n",
              "      <td>1130966.0</td>\n",
              "    </tr>\n",
              "    <tr>\n",
              "      <th>3</th>\n",
              "      <td>AL</td>\n",
              "      <td>total</td>\n",
              "      <td>2010</td>\n",
              "      <td>4785570.0</td>\n",
              "    </tr>\n",
              "    <tr>\n",
              "      <th>4</th>\n",
              "      <td>AL</td>\n",
              "      <td>under18</td>\n",
              "      <td>2011</td>\n",
              "      <td>1125763.0</td>\n",
              "    </tr>\n",
              "  </tbody>\n",
              "</table>\n",
              "</div>"
            ],
            "text/plain": [
              "  state-region     ages  year  population\n",
              "0           AL  under18  2012   1117489.0\n",
              "1           AL    total  2012   4817528.0\n",
              "2           AL  under18  2010   1130966.0\n",
              "3           AL    total  2010   4785570.0\n",
              "4           AL  under18  2011   1125763.0"
            ]
          },
          "metadata": {
            "tags": []
          },
          "execution_count": 51
        }
      ]
    },
    {
      "cell_type": "code",
      "metadata": {
        "colab": {
          "base_uri": "https://localhost:8080/"
        },
        "id": "j_Gxm5RFK0wP",
        "outputId": "be00693e-4648-41f0-ee20-707ad57d0a20"
      },
      "source": [
        "df_eland = ed.pandas_to_eland(\n",
        "    pd_df=df_pandas,\n",
        "    es_client=es,\n",
        "    # Where the data will live in Elasticsearch\n",
        "    es_dest_index=\"state-population\",\n",
        "    # Type overrides for certain columns\n",
        "    es_type_overrides={\n",
        "        \"state-region\": \"keyword\",\n",
        "        \"ages\": \"keyword\",\n",
        "        \"year\": \"keyword\",\n",
        "        \"population\": \"double\"\n",
        "    },\n",
        "    # If the index already exists what should we do?\n",
        "    es_if_exists=\"replace\",\n",
        "    # Wait for data to be indexed before returning\n",
        "    es_refresh=True,\n",
        ")\n",
        "df_eland.info()"
      ],
      "execution_count": 47,
      "outputs": [
        {
          "output_type": "stream",
          "text": [
            "<class 'eland.dataframe.DataFrame'>\n",
            "Index: 2524 entries, 2520 to 2519\n",
            "Data columns (total 4 columns):\n",
            " #   Column        Non-Null Count  Dtype  \n",
            "---  ------        --------------  -----  \n",
            " 0   ages          2524 non-null   object \n",
            " 1   population    2524 non-null   float64\n",
            " 2   state-region  2524 non-null   object \n",
            " 3   year          2524 non-null   object \n",
            "dtypes: float64(1), object(3)\n",
            "memory usage: 80.0 bytes\n"
          ],
          "name": "stdout"
        }
      ]
    },
    {
      "cell_type": "code",
      "metadata": {
        "colab": {
          "base_uri": "https://localhost:8080/",
          "height": 232
        },
        "id": "2qMT0OPLPzzf",
        "outputId": "fab3fac8-0161-4f09-9753-bfb0216699fc"
      },
      "source": [
        "df_eland.head()"
      ],
      "execution_count": 53,
      "outputs": [
        {
          "output_type": "execute_result",
          "data": {
            "text/html": [
              "<div>\n",
              "<style scoped>\n",
              "    .dataframe tbody tr th:only-of-type {\n",
              "        vertical-align: middle;\n",
              "    }\n",
              "\n",
              "    .dataframe tbody tr th {\n",
              "        vertical-align: top;\n",
              "    }\n",
              "\n",
              "    .dataframe thead th {\n",
              "        text-align: right;\n",
              "    }\n",
              "</style>\n",
              "<table border=\"1\" class=\"dataframe\">\n",
              "  <thead>\n",
              "    <tr style=\"text-align: right;\">\n",
              "      <th></th>\n",
              "      <th>ages</th>\n",
              "      <th>population</th>\n",
              "      <th>state-region</th>\n",
              "      <th>year</th>\n",
              "    </tr>\n",
              "  </thead>\n",
              "  <tbody>\n",
              "    <tr>\n",
              "      <th>2520</th>\n",
              "      <td>total</td>\n",
              "      <td>287625193.0</td>\n",
              "      <td>USA</td>\n",
              "      <td>2002</td>\n",
              "    </tr>\n",
              "    <tr>\n",
              "      <th>2521</th>\n",
              "      <td>under18</td>\n",
              "      <td>72936457.0</td>\n",
              "      <td>USA</td>\n",
              "      <td>2002</td>\n",
              "    </tr>\n",
              "    <tr>\n",
              "      <th>2522</th>\n",
              "      <td>total</td>\n",
              "      <td>290107933.0</td>\n",
              "      <td>USA</td>\n",
              "      <td>2003</td>\n",
              "    </tr>\n",
              "    <tr>\n",
              "      <th>2523</th>\n",
              "      <td>under18</td>\n",
              "      <td>73100758.0</td>\n",
              "      <td>USA</td>\n",
              "      <td>2003</td>\n",
              "    </tr>\n",
              "    <tr>\n",
              "      <th>2524</th>\n",
              "      <td>total</td>\n",
              "      <td>292805298.0</td>\n",
              "      <td>USA</td>\n",
              "      <td>2004</td>\n",
              "    </tr>\n",
              "  </tbody>\n",
              "</table>\n",
              "</div>\n",
              "<p>5 rows × 4 columns</p>"
            ],
            "text/plain": [
              "         ages   population state-region  year\n",
              "2520    total  287625193.0          USA  2002\n",
              "2521  under18   72936457.0          USA  2002\n",
              "2522    total  290107933.0          USA  2003\n",
              "2523  under18   73100758.0          USA  2003\n",
              "2524    total  292805298.0          USA  2004\n",
              "\n",
              "[5 rows x 4 columns]"
            ]
          },
          "metadata": {
            "tags": []
          },
          "execution_count": 53
        }
      ]
    },
    {
      "cell_type": "code",
      "metadata": {
        "colab": {
          "base_uri": "https://localhost:8080/",
          "height": 232
        },
        "id": "dMEJbCnvgNZr",
        "outputId": "01730c34-69c5-4e72-9dce-c5727888ef73"
      },
      "source": [
        "#Filter dataframe u\n",
        "df_eland.es_query({\"match\": {\"state-region\": \"USA\"}}).head()"
      ],
      "execution_count": 60,
      "outputs": [
        {
          "output_type": "execute_result",
          "data": {
            "text/html": [
              "<div>\n",
              "<style scoped>\n",
              "    .dataframe tbody tr th:only-of-type {\n",
              "        vertical-align: middle;\n",
              "    }\n",
              "\n",
              "    .dataframe tbody tr th {\n",
              "        vertical-align: top;\n",
              "    }\n",
              "\n",
              "    .dataframe thead th {\n",
              "        text-align: right;\n",
              "    }\n",
              "</style>\n",
              "<table border=\"1\" class=\"dataframe\">\n",
              "  <thead>\n",
              "    <tr style=\"text-align: right;\">\n",
              "      <th></th>\n",
              "      <th>ages</th>\n",
              "      <th>population</th>\n",
              "      <th>state-region</th>\n",
              "      <th>year</th>\n",
              "    </tr>\n",
              "  </thead>\n",
              "  <tbody>\n",
              "    <tr>\n",
              "      <th>2520</th>\n",
              "      <td>total</td>\n",
              "      <td>287625193.0</td>\n",
              "      <td>USA</td>\n",
              "      <td>2002</td>\n",
              "    </tr>\n",
              "    <tr>\n",
              "      <th>2521</th>\n",
              "      <td>under18</td>\n",
              "      <td>72936457.0</td>\n",
              "      <td>USA</td>\n",
              "      <td>2002</td>\n",
              "    </tr>\n",
              "    <tr>\n",
              "      <th>2522</th>\n",
              "      <td>total</td>\n",
              "      <td>290107933.0</td>\n",
              "      <td>USA</td>\n",
              "      <td>2003</td>\n",
              "    </tr>\n",
              "    <tr>\n",
              "      <th>2523</th>\n",
              "      <td>under18</td>\n",
              "      <td>73100758.0</td>\n",
              "      <td>USA</td>\n",
              "      <td>2003</td>\n",
              "    </tr>\n",
              "    <tr>\n",
              "      <th>2524</th>\n",
              "      <td>total</td>\n",
              "      <td>292805298.0</td>\n",
              "      <td>USA</td>\n",
              "      <td>2004</td>\n",
              "    </tr>\n",
              "  </tbody>\n",
              "</table>\n",
              "</div>\n",
              "<p>5 rows × 4 columns</p>"
            ],
            "text/plain": [
              "         ages   population state-region  year\n",
              "2520    total  287625193.0          USA  2002\n",
              "2521  under18   72936457.0          USA  2002\n",
              "2522    total  290107933.0          USA  2003\n",
              "2523  under18   73100758.0          USA  2003\n",
              "2524    total  292805298.0          USA  2004\n",
              "\n",
              "[5 rows x 4 columns]"
            ]
          },
          "metadata": {
            "tags": []
          },
          "execution_count": 60
        }
      ]
    },
    {
      "cell_type": "code",
      "metadata": {
        "colab": {
          "base_uri": "https://localhost:8080/",
          "height": 202
        },
        "id": "I1LdixiFh0yL",
        "outputId": "2fef4bb9-3aa5-4f96-daf7-124e944d2ead"
      },
      "source": [
        "df_pd = df_eland.to_pandas()\n",
        "df_pd.head()"
      ],
      "execution_count": 64,
      "outputs": [
        {
          "output_type": "execute_result",
          "data": {
            "text/html": [
              "<div>\n",
              "<style scoped>\n",
              "    .dataframe tbody tr th:only-of-type {\n",
              "        vertical-align: middle;\n",
              "    }\n",
              "\n",
              "    .dataframe tbody tr th {\n",
              "        vertical-align: top;\n",
              "    }\n",
              "\n",
              "    .dataframe thead th {\n",
              "        text-align: right;\n",
              "    }\n",
              "</style>\n",
              "<table border=\"1\" class=\"dataframe\">\n",
              "  <thead>\n",
              "    <tr style=\"text-align: right;\">\n",
              "      <th></th>\n",
              "      <th>ages</th>\n",
              "      <th>population</th>\n",
              "      <th>state-region</th>\n",
              "      <th>year</th>\n",
              "    </tr>\n",
              "  </thead>\n",
              "  <tbody>\n",
              "    <tr>\n",
              "      <th>2520</th>\n",
              "      <td>total</td>\n",
              "      <td>287625193.0</td>\n",
              "      <td>USA</td>\n",
              "      <td>2002</td>\n",
              "    </tr>\n",
              "    <tr>\n",
              "      <th>2521</th>\n",
              "      <td>under18</td>\n",
              "      <td>72936457.0</td>\n",
              "      <td>USA</td>\n",
              "      <td>2002</td>\n",
              "    </tr>\n",
              "    <tr>\n",
              "      <th>2522</th>\n",
              "      <td>total</td>\n",
              "      <td>290107933.0</td>\n",
              "      <td>USA</td>\n",
              "      <td>2003</td>\n",
              "    </tr>\n",
              "    <tr>\n",
              "      <th>2523</th>\n",
              "      <td>under18</td>\n",
              "      <td>73100758.0</td>\n",
              "      <td>USA</td>\n",
              "      <td>2003</td>\n",
              "    </tr>\n",
              "    <tr>\n",
              "      <th>2524</th>\n",
              "      <td>total</td>\n",
              "      <td>292805298.0</td>\n",
              "      <td>USA</td>\n",
              "      <td>2004</td>\n",
              "    </tr>\n",
              "  </tbody>\n",
              "</table>\n",
              "</div>"
            ],
            "text/plain": [
              "         ages   population state-region  year\n",
              "2520    total  287625193.0          USA  2002\n",
              "2521  under18   72936457.0          USA  2002\n",
              "2522    total  290107933.0          USA  2003\n",
              "2523  under18   73100758.0          USA  2003\n",
              "2524    total  292805298.0          USA  2004"
            ]
          },
          "metadata": {
            "tags": []
          },
          "execution_count": 64
        }
      ]
    }
  ]
}