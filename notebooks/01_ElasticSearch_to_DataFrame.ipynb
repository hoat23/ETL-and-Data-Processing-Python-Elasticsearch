{
  "nbformat": 4,
  "nbformat_minor": 0,
  "metadata": {
    "colab": {
      "name": "01_ElasticSearch_to_DataFrame.ipynb",
      "provenance": [],
      "collapsed_sections": []
    },
    "kernelspec": {
      "name": "python3",
      "display_name": "Python 3"
    }
  },
  "cells": [
    {
      "cell_type": "code",
      "metadata": {
        "id": "N9nXNoAd8U-4",
        "colab": {
          "base_uri": "https://localhost:8080/"
        },
        "outputId": "8f5c64e8-283e-4108-8a3a-1dd714f7ef5b"
      },
      "source": [
        "!python -m pip install elasticsearch\n",
        "!python -m pip install eland"
      ],
      "execution_count": 1,
      "outputs": [
        {
          "output_type": "stream",
          "text": [
            "Collecting elasticsearch\n",
            "\u001b[?25l  Downloading https://files.pythonhosted.org/packages/14/ba/f950bdd9164fb2bbbe5093700162234fbe61f446fe2300a8993761c132ca/elasticsearch-7.10.0-py2.py3-none-any.whl (321kB)\n",
            "\r\u001b[K     |█                               | 10kB 13.9MB/s eta 0:00:01\r\u001b[K     |██                              | 20kB 14.1MB/s eta 0:00:01\r\u001b[K     |███                             | 30kB 9.2MB/s eta 0:00:01\r\u001b[K     |████                            | 40kB 8.3MB/s eta 0:00:01\r\u001b[K     |█████                           | 51kB 5.5MB/s eta 0:00:01\r\u001b[K     |██████                          | 61kB 6.0MB/s eta 0:00:01\r\u001b[K     |███████▏                        | 71kB 5.7MB/s eta 0:00:01\r\u001b[K     |████████▏                       | 81kB 6.3MB/s eta 0:00:01\r\u001b[K     |█████████▏                      | 92kB 6.3MB/s eta 0:00:01\r\u001b[K     |██████████▏                     | 102kB 6.8MB/s eta 0:00:01\r\u001b[K     |███████████▏                    | 112kB 6.8MB/s eta 0:00:01\r\u001b[K     |████████████▏                   | 122kB 6.8MB/s eta 0:00:01\r\u001b[K     |█████████████▎                  | 133kB 6.8MB/s eta 0:00:01\r\u001b[K     |██████████████▎                 | 143kB 6.8MB/s eta 0:00:01\r\u001b[K     |███████████████▎                | 153kB 6.8MB/s eta 0:00:01\r\u001b[K     |████████████████▎               | 163kB 6.8MB/s eta 0:00:01\r\u001b[K     |█████████████████▎              | 174kB 6.8MB/s eta 0:00:01\r\u001b[K     |██████████████████▎             | 184kB 6.8MB/s eta 0:00:01\r\u001b[K     |███████████████████▍            | 194kB 6.8MB/s eta 0:00:01\r\u001b[K     |████████████████████▍           | 204kB 6.8MB/s eta 0:00:01\r\u001b[K     |█████████████████████▍          | 215kB 6.8MB/s eta 0:00:01\r\u001b[K     |██████████████████████▍         | 225kB 6.8MB/s eta 0:00:01\r\u001b[K     |███████████████████████▍        | 235kB 6.8MB/s eta 0:00:01\r\u001b[K     |████████████████████████▍       | 245kB 6.8MB/s eta 0:00:01\r\u001b[K     |█████████████████████████▌      | 256kB 6.8MB/s eta 0:00:01\r\u001b[K     |██████████████████████████▌     | 266kB 6.8MB/s eta 0:00:01\r\u001b[K     |███████████████████████████▌    | 276kB 6.8MB/s eta 0:00:01\r\u001b[K     |████████████████████████████▌   | 286kB 6.8MB/s eta 0:00:01\r\u001b[K     |█████████████████████████████▌  | 296kB 6.8MB/s eta 0:00:01\r\u001b[K     |██████████████████████████████▌ | 307kB 6.8MB/s eta 0:00:01\r\u001b[K     |███████████████████████████████▋| 317kB 6.8MB/s eta 0:00:01\r\u001b[K     |████████████████████████████████| 327kB 6.8MB/s \n",
            "\u001b[?25hRequirement already satisfied: urllib3<2,>=1.21.1 in /usr/local/lib/python3.6/dist-packages (from elasticsearch) (1.24.3)\n",
            "Requirement already satisfied: certifi in /usr/local/lib/python3.6/dist-packages (from elasticsearch) (2020.6.20)\n",
            "Installing collected packages: elasticsearch\n",
            "Successfully installed elasticsearch-7.10.0\n",
            "Collecting eland\n",
            "\u001b[?25l  Downloading https://files.pythonhosted.org/packages/44/1c/5966b8218248b80e1ec504e4b7aace40e4800366a6f96b461beb733d6295/eland-7.10.0b1-py3-none-any.whl (203kB)\n",
            "\u001b[K     |████████████████████████████████| 204kB 6.5MB/s \n",
            "\u001b[?25hRequirement already satisfied: pandas>=1 in /usr/local/lib/python3.6/dist-packages (from eland) (1.1.4)\n",
            "Requirement already satisfied: matplotlib in /usr/local/lib/python3.6/dist-packages (from eland) (3.2.2)\n",
            "Requirement already satisfied: elasticsearch>=7.7 in /usr/local/lib/python3.6/dist-packages (from eland) (7.10.0)\n",
            "Requirement already satisfied: numpy in /usr/local/lib/python3.6/dist-packages (from eland) (1.18.5)\n",
            "Requirement already satisfied: python-dateutil>=2.7.3 in /usr/local/lib/python3.6/dist-packages (from pandas>=1->eland) (2.8.1)\n",
            "Requirement already satisfied: pytz>=2017.2 in /usr/local/lib/python3.6/dist-packages (from pandas>=1->eland) (2018.9)\n",
            "Requirement already satisfied: pyparsing!=2.0.4,!=2.1.2,!=2.1.6,>=2.0.1 in /usr/local/lib/python3.6/dist-packages (from matplotlib->eland) (2.4.7)\n",
            "Requirement already satisfied: kiwisolver>=1.0.1 in /usr/local/lib/python3.6/dist-packages (from matplotlib->eland) (1.3.1)\n",
            "Requirement already satisfied: cycler>=0.10 in /usr/local/lib/python3.6/dist-packages (from matplotlib->eland) (0.10.0)\n",
            "Requirement already satisfied: urllib3<2,>=1.21.1 in /usr/local/lib/python3.6/dist-packages (from elasticsearch>=7.7->eland) (1.24.3)\n",
            "Requirement already satisfied: certifi in /usr/local/lib/python3.6/dist-packages (from elasticsearch>=7.7->eland) (2020.6.20)\n",
            "Requirement already satisfied: six>=1.5 in /usr/local/lib/python3.6/dist-packages (from python-dateutil>=2.7.3->pandas>=1->eland) (1.15.0)\n",
            "Installing collected packages: eland\n",
            "Successfully installed eland-7.10.0b1\n"
          ],
          "name": "stdout"
        }
      ]
    },
    {
      "cell_type": "code",
      "metadata": {
        "id": "bOkK6a0xGYfD"
      },
      "source": [
        "from urllib.request import urlopen\n",
        "import pandas as pd\n",
        "import eland as ed\n",
        "import pandas as pd\n",
        "import numpy as np\n",
        "import matplotlib.pyplot as plt\n",
        "\n",
        "from elasticsearch import Elasticsearch\n",
        "# Import standard test settings for consistent results\n",
        "from eland.conftest import *\n",
        "\n",
        "# Loading code <utils.py> from github repository.\n",
        "url_code_github = \"https://raw.githubusercontent.com/hoat23/ElasticSearch/master/bin/utils.py\"\n",
        "code_str = urlopen(url_code_github).read()\n",
        "code_str = code_str.decode('utf-8')\n",
        "exec(  code_str  )\n",
        "\n",
        "# Loading code <csv> from github repository\n",
        "url_data_csv = \"https://raw.githubusercontent.com/hoat23/DataAnalytics/master/data/state-population.csv\""
      ],
      "execution_count": 2,
      "outputs": []
    },
    {
      "cell_type": "code",
      "metadata": {
        "id": "29KA-NI_5VkF",
        "colab": {
          "base_uri": "https://localhost:8080/"
        },
        "outputId": "402ca563-f2ed-4ae8-eb32-7f23dbb6cc12"
      },
      "source": [
        "# Connect to an Elastic Cloud instance\n",
        "#es = Elasticsearch(\n",
        "#  cloud_id=ELASTIC_CLOUD_ID,\n",
        "#  http_auth=(ELASTIC_USER, ELASTIC_CLOUD_PASSWORD)\n",
        "#)\n",
        "\n",
        "es = Elasticsearch(\n",
        "    [CLUSTER_ENDPOINT],\n",
        "    api_key=( ID , API_KEY),\n",
        ")\n",
        "\n",
        "print_json(es.info())"
      ],
      "execution_count": 4,
      "outputs": [
        {
          "output_type": "stream",
          "text": [
            "{\n",
            "  \"cluster_name\": \"8eb8a6a47de443989c55b121f2d5c033\",\n",
            "  \"cluster_uuid\": \"CpKu9OxRQ7uDSiqLoNGVeg\",\n",
            "  \"name\": \"instance-0000000000\",\n",
            "  \"tagline\": \"You Know, for Search\",\n",
            "  \"version\": {\n",
            "    \"build_date\": \"2020-11-09T21:30:33.964949Z\",\n",
            "    \"build_flavor\": \"default\",\n",
            "    \"build_hash\": \"51e9d6f22758d0374a0f3f5c6e8f3a7997850f96\",\n",
            "    \"build_snapshot\": false,\n",
            "    \"build_type\": \"docker\",\n",
            "    \"lucene_version\": \"8.7.0\",\n",
            "    \"minimum_index_compatibility_version\": \"6.0.0-beta1\",\n",
            "    \"minimum_wire_compatibility_version\": \"6.8.0\",\n",
            "    \"number\": \"7.10.0\"\n",
            "  }\n",
            "}\n"
          ],
          "name": "stdout"
        }
      ]
    },
    {
      "cell_type": "code",
      "metadata": {
        "colab": {
          "base_uri": "https://localhost:8080/"
        },
        "id": "BIf6v87KLwlV",
        "outputId": "e6223ee8-56e2-4cc8-96c4-ffa7b33a05b8"
      },
      "source": [
        "# Conneting to index \"state-population\" in elasticsearch\n",
        "df_eland = ed.DataFrame(es, 'state-population')\n",
        "df_eland.info()"
      ],
      "execution_count": 8,
      "outputs": [
        {
          "output_type": "stream",
          "text": [
            "<class 'eland.dataframe.DataFrame'>\n",
            "Index: 2524 entries, 2520 to 2519\n",
            "Data columns (total 4 columns):\n",
            " #   Column        Non-Null Count  Dtype  \n",
            "---  ------        --------------  -----  \n",
            " 0   ages          2524 non-null   object \n",
            " 1   population    2524 non-null   float64\n",
            " 2   state-region  2524 non-null   object \n",
            " 3   year          2524 non-null   object \n",
            "dtypes: float64(1), object(3)\n",
            "memory usage: 80.0 bytes\n"
          ],
          "name": "stdout"
        }
      ]
    },
    {
      "cell_type": "code",
      "metadata": {
        "colab": {
          "base_uri": "https://localhost:8080/"
        },
        "id": "j_Gxm5RFK0wP",
        "outputId": "c678f819-180c-438d-d1f7-e20ee86049ae"
      },
      "source": [
        "df_pandas = df_eland.to_pandas()\n",
        "df_pandas.info()"
      ],
      "execution_count": 9,
      "outputs": [
        {
          "output_type": "stream",
          "text": [
            "<class 'pandas.core.frame.DataFrame'>\n",
            "Index: 2524 entries, 2520 to 2519\n",
            "Data columns (total 4 columns):\n",
            " #   Column        Non-Null Count  Dtype  \n",
            "---  ------        --------------  -----  \n",
            " 0   ages          2524 non-null   object \n",
            " 1   population    2524 non-null   float64\n",
            " 2   state-region  2524 non-null   object \n",
            " 3   year          2524 non-null   int64  \n",
            "dtypes: float64(1), int64(1), object(2)\n",
            "memory usage: 98.6+ KB\n"
          ],
          "name": "stdout"
        }
      ]
    }
  ]
}