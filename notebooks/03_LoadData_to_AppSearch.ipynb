{
  "nbformat": 4,
  "nbformat_minor": 0,
  "metadata": {
    "colab": {
      "name": "03_LoadData_to_AppSearch.ipynb",
      "provenance": [],
      "collapsed_sections": []
    },
    "kernelspec": {
      "name": "python3",
      "display_name": "Python 3"
    }
  },
  "cells": [
    {
      "cell_type": "code",
      "metadata": {
        "colab": {
          "base_uri": "https://localhost:8080/"
        },
        "id": "rmlsEf4PDBFg",
        "outputId": "00e65a23-b6be-443c-c92d-57e0f3e73c5a"
      },
      "source": [
        "!python -m pip install elastic-app-search\n",
        "!python -m pip install elasticsearch\n",
        "#https://github.com/elastic/app-search-python"
      ],
      "execution_count": null,
      "outputs": [
        {
          "output_type": "stream",
          "text": [
            "Collecting elastic-app-search\n",
            "  Downloading https://files.pythonhosted.org/packages/7c/2e/469e694c1205d976d33f58e025b1a4344fefee75b6c9aa33b415d5f0a874/elastic-app-search-7.9.0.tar.gz\n",
            "Requirement already satisfied: requests in /usr/local/lib/python3.6/dist-packages (from elastic-app-search) (2.23.0)\n",
            "Collecting PyJWT\n",
            "  Downloading https://files.pythonhosted.org/packages/87/8b/6a9f14b5f781697e51259d81657e6048fd31a113229cf346880bb7545565/PyJWT-1.7.1-py2.py3-none-any.whl\n",
            "Requirement already satisfied: urllib3!=1.25.0,!=1.25.1,<1.26,>=1.21.1 in /usr/local/lib/python3.6/dist-packages (from requests->elastic-app-search) (1.24.3)\n",
            "Requirement already satisfied: idna<3,>=2.5 in /usr/local/lib/python3.6/dist-packages (from requests->elastic-app-search) (2.10)\n",
            "Requirement already satisfied: chardet<4,>=3.0.2 in /usr/local/lib/python3.6/dist-packages (from requests->elastic-app-search) (3.0.4)\n",
            "Requirement already satisfied: certifi>=2017.4.17 in /usr/local/lib/python3.6/dist-packages (from requests->elastic-app-search) (2020.6.20)\n",
            "Building wheels for collected packages: elastic-app-search\n",
            "  Building wheel for elastic-app-search (setup.py) ... \u001b[?25l\u001b[?25hdone\n",
            "  Created wheel for elastic-app-search: filename=elastic_app_search-7.9.0-py2.py3-none-any.whl size=13717 sha256=60f5d9923f8a9c33ccf9eda8eb6bb2837782cb4c838810b714b72d821f494fe3\n",
            "  Stored in directory: /root/.cache/pip/wheels/d6/2d/b3/450c1276d376f3f7457d1f77e883985dff4a286014d917c7d5\n",
            "Successfully built elastic-app-search\n",
            "Installing collected packages: PyJWT, elastic-app-search\n",
            "Successfully installed PyJWT-1.7.1 elastic-app-search-7.9.0\n",
            "Collecting elasticsearch\n",
            "\u001b[?25l  Downloading https://files.pythonhosted.org/packages/14/ba/f950bdd9164fb2bbbe5093700162234fbe61f446fe2300a8993761c132ca/elasticsearch-7.10.0-py2.py3-none-any.whl (321kB)\n",
            "\u001b[K     |████████████████████████████████| 327kB 5.2MB/s \n",
            "\u001b[?25hRequirement already satisfied: certifi in /usr/local/lib/python3.6/dist-packages (from elasticsearch) (2020.6.20)\n",
            "Requirement already satisfied: urllib3<2,>=1.21.1 in /usr/local/lib/python3.6/dist-packages (from elasticsearch) (1.24.3)\n",
            "Installing collected packages: elasticsearch\n",
            "Successfully installed elasticsearch-7.10.0\n"
          ],
          "name": "stdout"
        }
      ]
    },
    {
      "cell_type": "code",
      "metadata": {
        "id": "FIPLdl_o-fwZ"
      },
      "source": [
        "ENDPOINT = \"123123.ent-search.us-central1.gcp.cloud.es.io/api/as/v1/\"\n",
        "PRIVATE_KEY = \"private-123123\"\n",
        "SEARCH_KEY = \"search-123123\""
      ],
      "execution_count": null,
      "outputs": []
    },
    {
      "cell_type": "code",
      "metadata": {
        "id": "C6HPdUsqMvUv"
      },
      "source": [
        "from urllib.request import urlopen\n",
        "import pandas as pd\n",
        "#import eland as ed\n",
        "#from eland.conftest import *\n",
        "import pandas as pd\n",
        "import numpy as np\n",
        "import matplotlib.pyplot as plt\n",
        "\n",
        "from elasticsearch import Elasticsearch\n",
        "# Import standard test settings for consistent results\n",
        "\n",
        "\n",
        "# Loading code <utils.py> from github repository.\n",
        "url_code_github = \"https://raw.githubusercontent.com/hoat23/ElasticSearch/master/bin/utils.py\"\n",
        "code_str = urlopen(url_code_github).read()\n",
        "code_str = code_str.decode('utf-8')\n",
        "exec(  code_str  )\n",
        "\n",
        "url_data_csv = \"https://raw.githubusercontent.com/hoat23/ETL-and-Data-Processing-Python-Elasticsearch/master/data/padron_reducido_ruc_sample.txt\"\n",
        "\n",
        "from elastic_app_search import Client\n",
        "client = Client(\n",
        "    base_endpoint=ENDPOINT,\n",
        "    api_key=PRIVATE_KEY,\n",
        "    use_https=True\n",
        ")"
      ],
      "execution_count": null,
      "outputs": []
    },
    {
      "cell_type": "code",
      "metadata": {
        "colab": {
          "base_uri": "https://localhost:8080/"
        },
        "id": "be3Qf1v1PMwy",
        "outputId": "01c665ee-31d9-4fef-a25a-5e788c233511"
      },
      "source": [
        "rpt = client.list_engines(current=1, size=20)\n",
        "print_json(rpt)\n",
        "rpt = client.get_search_settings(engine_name='sunat-padron')\n",
        "print(\"\\nEngine Name:\")\n",
        "print_json(rpt)"
      ],
      "execution_count": null,
      "outputs": [
        {
          "output_type": "stream",
          "text": [
            "{\n",
            "  \"meta\": {\n",
            "    \"page\": {\n",
            "      \"current\": 1,\n",
            "      \"size\": 20,\n",
            "      \"total_pages\": 1,\n",
            "      \"total_results\": 2\n",
            "    }\n",
            "  },\n",
            "  \"results\": [\n",
            "    {\n",
            "      \"language\": \"es\",\n",
            "      \"name\": \"sunat-padron\",\n",
            "      \"type\": \"default\"\n",
            "    },\n",
            "    {\n",
            "      \"language\": \"es\",\n",
            "      \"name\": \"indecopi\",\n",
            "      \"type\": \"default\"\n",
            "    }\n",
            "  ]\n",
            "}\n",
            "\n",
            "Engine Name:\n",
            "{\n",
            "  \"boosts\": {},\n",
            "  \"result_fields\": {\n",
            "    \"id\": {\n",
            "      \"raw\": {}\n",
            "    }\n",
            "  },\n",
            "  \"search_fields\": {\n",
            "    \"id\": {\n",
            "      \"weight\": 1\n",
            "    }\n",
            "  }\n",
            "}\n"
          ],
          "name": "stdout"
        }
      ]
    },
    {
      "cell_type": "code",
      "metadata": {
        "colab": {
          "base_uri": "https://localhost:8080/"
        },
        "id": "mK4VBFdBNH4C",
        "outputId": "966e0044-34f7-4d2a-e25d-1a3e541eb20d"
      },
      "source": [
        "engine_name = 'sunat-padron'\n",
        "documents = [\n",
        "    {\n",
        "      \"id\": \"20516381311\",\n",
        "      \"name\": \"THUNDERBIRD HOTELES LAS AMERICAS S.A.\"\n",
        "    }\n",
        "]\n",
        "\n",
        "#client.index_documents(engine_name, documents)\n",
        "client.index_documents(engine_name, documents)"
      ],
      "execution_count": null,
      "outputs": [
        {
          "output_type": "execute_result",
          "data": {
            "text/plain": [
              "[{'errors': [], 'id': '20516381311'}]"
            ]
          },
          "metadata": {
            "tags": []
          },
          "execution_count": 46
        }
      ]
    },
    {
      "cell_type": "code",
      "metadata": {
        "colab": {
          "base_uri": "https://localhost:8080/"
        },
        "id": "eQ34cqOlNSaW",
        "outputId": "5cb8179b-fba3-4fbc-8b75-c7acc9a2f6a6"
      },
      "source": [
        "engine_name = 'sunat-padron'\n",
        "rpt = client.list_documents(engine_name, current=1, size=20)\n",
        "print_json(rpt)"
      ],
      "execution_count": null,
      "outputs": [
        {
          "output_type": "stream",
          "text": [
            "{\n",
            "  \"meta\": {\n",
            "    \"page\": {\n",
            "      \"current\": 1,\n",
            "      \"size\": 20,\n",
            "      \"total_pages\": 1,\n",
            "      \"total_results\": 2\n",
            "    }\n",
            "  },\n",
            "  \"results\": [\n",
            "    {\n",
            "      \"id\": \"20258797915\",\n",
            "      \"name\": \"MAQUINARIAS Y EQUIPOS DEL PERU S.A.\"\n",
            "    },\n",
            "    {\n",
            "      \"id\": \"20516381311\",\n",
            "      \"name\": \"THUNDERBIRD HOTELES LAS AMERICAS S.A.\"\n",
            "    }\n",
            "  ]\n",
            "}\n"
          ],
          "name": "stdout"
        }
      ]
    }
  ]
}